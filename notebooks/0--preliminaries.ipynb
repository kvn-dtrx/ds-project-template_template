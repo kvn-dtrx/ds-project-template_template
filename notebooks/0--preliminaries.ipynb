{
 "cells": [
  {
   "cell_type": "markdown",
   "id": "a63ef9a6",
   "metadata": {},
   "source": [
    "# Preliminaries\n",
    "\n",
    "Here, we explain briefly how we organise our notebooks. Throughout all notebooks, we shall employ a custom module:"
   ]
  },
  {
   "cell_type": "code",
   "execution_count": null,
   "id": "88903855",
   "metadata": {},
   "outputs": [],
   "source": [
    "import ipynb_utils"
   ]
  },
  {
   "cell_type": "markdown",
   "id": "bbf64eda",
   "metadata": {},
   "source": [
    "It contains a configuration dictionary named `CFG` which holds global environment variables. This shall facilitate the process of storing and loading data between notebooks."
   ]
  },
  {
   "cell_type": "code",
   "execution_count": null,
   "id": "3c71c59a",
   "metadata": {},
   "outputs": [],
   "source": [
    "CFG = ipynb_utils.CFG\n",
    "\n",
    "padding_length = max(len(k) for k in CFG)\n",
    "\n",
    "print(\"Configuration settings (CFG dictionary):\")\n",
    "for k, v in CFG.items():\n",
    "    print(f\"  {k.ljust(padding_length)} : {v}\")"
   ]
  },
  {
   "cell_type": "markdown",
   "id": "22d24b3c",
   "metadata": {},
   "source": [
    "Finally, let us delineate the contents of our notebooks and the data upon which they respectively depend:\n",
    "\n",
    "- `0--preliminaries.ipynb`: This is the present notebook.\n",
    "- `1--retrieval.ipynb`: Describes the procedure to download the data. These are requisite for the remaining notebook.\n",
    "- `2--data-exploration.ipynb`: Performs basic exploratory data analysis, producing a processed data frame. This file is necessary for all subsequent notebooks.\n",
    "- `3--modelling.ipynb`: Contains the predictive Machine Learning models.\n",
    "- `4--resume.ipynb`: Presents a brief resume of our analysis."
   ]
  }
 ],
 "metadata": {
  "kernelspec": {
   "display_name": ".venv",
   "language": "python",
   "name": "python3"
  },
  "language_info": {
   "codemirror_mode": {
    "name": "ipython",
    "version": 3
   },
   "file_extension": ".py",
   "mimetype": "text/x-python",
   "name": "python",
   "nbconvert_exporter": "python",
   "pygments_lexer": "ipython3",
   "version": "3.11.3"
  }
 },
 "nbformat": 4,
 "nbformat_minor": 5
}
