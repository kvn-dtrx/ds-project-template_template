{
  "cells": [
    {
      "cell_type": "markdown",
      "id": "4f15bbf5",
      "metadata": {},
      "source": [
        "# Modelling\n",
        "\n",
        "In this notebook, we build a model to predict blablub. For assessing the quality of our model, we choose\n",
        "\n",
        "**TODO:** Justify "
      ]
    },
    {
      "cell_type": "markdown",
      "id": "30b8d20c",
      "metadata": {},
      "source": [
        "We start with importing the required libraries."
      ]
    },
    {
      "cell_type": "code",
      "execution_count": null,
      "id": "762eeb67",
      "metadata": {},
      "outputs": [],
      "source": [
        "import pandas as pd\n",
        "import matplotlib.pyplot as plt\n",
        "import seaborn as sns\n",
        "\n",
        "from sklearn.model_selection import train_test_split\n",
        "from sklearn.linear_model import LogisticRegression\n",
        "from sklearn.model_selection import cross_val_score\n",
        "from sklearn.metrics import (\n",
        "    accuracy_score,\n",
        "    precision_score,\n",
        "    recall_score,\n",
        "    f1_score,\n",
        "    confusion_matrix,\n",
        ")\n",
        "\n",
        "\n",
        "from ipynb_utils.cfg import CFG\n",
        "from ipynb_utilsls import dump_df, load_data"
      ]
    },
    {
      "cell_type": "markdown",
      "id": "e59f29ec",
      "metadata": {},
      "source": [
        "Let us load the data, as previously processed:"
      ]
    },
    {
      "cell_type": "code",
      "execution_count": null,
      "id": "a7b1d8c9",
      "metadata": {},
      "outputs": [],
      "source": [
        "df = load_data(\"1--df_retrieved.pkl\")"
      ]
    },
    {
      "cell_type": "markdown",
      "id": "70fa6f88",
      "metadata": {},
      "source": [
        "We want to predict . We split the data frame \n",
        "\n",
        "- columns into a feature and a target part,\n",
        "- rows into a training and test value set."
      ]
    },
    {
      "cell_type": "code",
      "execution_count": null,
      "id": "1383431d",
      "metadata": {},
      "outputs": [],
      "source": [
        "target_cols = [\"target\"]\n",
        "excluded_feature_cols = [ ]\n",
        "\n",
        "X_cols_to_drop = []\n",
        "X_cols_to_drop.extend(y_cols)\n",
        "# \n",
        "X_cols_to_drop.append()\n",
        "\n",
        "X_cols = [col for col in df.columns if col not in cols_to_drop]\n",
        "\n",
        "X = df[X_cols].values\n",
        "y = df[y_cols].values.ravel()\n",
        "\n",
        "X_0, X_1, y_0, y_1 = train_test_split(\n",
        "    X, y, test_size=0.2, random_state=CFG[\"RSEED\"],\n",
        ")\n"
      ]
    },
    {
      "cell_type": "markdown",
      "id": "65bd2b32",
      "metadata": {},
      "source": [
        "We fit the model to the train set and calculate the prediction of the test set."
      ]
    },
    {
      "cell_type": "code",
      "execution_count": null,
      "id": "c4c1024f",
      "metadata": {},
      "outputs": [],
      "source": [
        "model = LogisticRegression()\n",
        "model.fit(X_0, y_0)\n",
        "y_pred = model.predict(X_1)"
      ]
    },
    {
      "cell_type": "markdown",
      "id": "27709da4",
      "metadata": {},
      "source": [
        "Finally, let us evaluate our model. "
      ]
    },
    {
      "cell_type": "code",
      "execution_count": null,
      "id": "86967a1d",
      "metadata": {},
      "outputs": [],
      "source": [
        "accuracy = accuracy_score(y_true, y_pred)\n",
        "precision = precision_score(y_true, y_pred)\n",
        "recall = recall_score(y_true, y_pred)\n",
        "f1 = f1_score(y_true, y_pred)\n",
        "cm = confusion_matrix(y_true, y_pred)\n",
        "\n",
        "print(\"Evaluation Metrics:\")\n",
        "print(f\"  Accuracy:  {accuracy:.2f}\")\n",
        "print(f\"  Precision: {precision:.2f}\")\n",
        "print(f\"  Recall:    {recall:.2f}\")\n",
        "print(f\"  f1 Score:  {f1:.2f}\")\n",
        "print(\"\")\n",
        "print(\"Confusion Matrix:\")\n",
        "print(cm)"
      ]
    }
  ],
  "metadata": {
    "kernelspec": {
      "display_name": ".venv",
      "language": "python",
      "name": "python3"
    },
    "language_info": {
      "codemirror_mode": {
        "name": "ipython",
        "version": 3
      },
      "file_extension": ".py",
      "mimetype": "text/x-python",
      "name": "python",
      "nbconvert_exporter": "python",
      "pygments_lexer": "ipython3",
      "version": "3.11.3"
    }
  },
  "nbformat": 4,
  "nbformat_minor": 5
}
