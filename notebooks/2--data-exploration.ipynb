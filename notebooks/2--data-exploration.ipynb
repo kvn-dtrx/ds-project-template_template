{
 "cells": [
  {
   "cell_type": "markdown",
   "id": "55d645f7",
   "metadata": {},
   "source": [
    "# Data Exploration"
   ]
  },
  {
   "cell_type": "markdown",
   "id": "3f163742",
   "metadata": {},
   "source": [
    "## Setup\n",
    "\n",
    "For the purposes of our analysis, the following modules shall be required:"
   ]
  },
  {
   "cell_type": "code",
   "execution_count": null,
   "id": "f0a2f0e3",
   "metadata": {},
   "outputs": [],
   "source": [
    "import pandas as pd\n",
    "import missingno as msno\n",
    "import matplotlib.pyplot as plt\n",
    "import seaborn as sns\n",
    "from sklearn.feature_selection import mutual_info_regression\n",
    "\n",
    "from ipynb_utils.cfg import CFG\n",
    "from ipynb_utils.utils import dump_df, load_data"
   ]
  },
  {
   "cell_type": "markdown",
   "id": "0bdb457c",
   "metadata": {},
   "source": [
    "We shall reload the retrieved data."
   ]
  },
  {
   "cell_type": "code",
   "execution_count": null,
   "id": "26c94e08",
   "metadata": {},
   "outputs": [],
   "source": [
    "df = load_data(\"1--df_retrieved.pkl\")"
   ]
  },
  {
   "cell_type": "markdown",
   "id": "e08e4f55",
   "metadata": {},
   "source": [
    "## Basic Inspection"
   ]
  },
  {
   "cell_type": "markdown",
   "id": "032e1fcf",
   "metadata": {},
   "source": [
    "As a preliminary inspection, let us invoke some common examination methods of the data frame."
   ]
  },
  {
   "cell_type": "code",
   "execution_count": null,
   "id": "e29b04cc",
   "metadata": {},
   "outputs": [],
   "source": [
    "# TODO: Remove this cell in the final version!\n",
    "\n",
    "# Comprehensive Data Report\n",
    "from ydata_profiling import ProfileReport\n",
    "\n",
    "profile = ProfileReport(df, title=\"Profiling Report\")\n",
    "profile"
   ]
  },
  {
   "cell_type": "code",
   "execution_count": null,
   "id": "4d2f1708",
   "metadata": {},
   "outputs": [],
   "source": [
    "# Summary: non-null counts, types, memory\n",
    "df.info()"
   ]
  },
  {
   "cell_type": "code",
   "execution_count": null,
   "id": "4540e919",
   "metadata": {},
   "outputs": [],
   "source": [
    "# First 10 rows\n",
    "df.head(10)"
   ]
  },
  {
   "cell_type": "code",
   "execution_count": null,
   "id": "b560af1c",
   "metadata": {},
   "outputs": [],
   "source": [
    "# Last 10 rows\n",
    "df.tail(10)"
   ]
  },
  {
   "cell_type": "code",
   "execution_count": null,
   "id": "5fd075f5",
   "metadata": {},
   "outputs": [],
   "source": [
    "# Random 10 rows\n",
    "df.sample(10)"
   ]
  },
  {
   "cell_type": "code",
   "execution_count": null,
   "id": "81bab701",
   "metadata": {},
   "outputs": [],
   "source": [
    "# Rows and columns (rows, cols)\n",
    "df.shape"
   ]
  },
  {
   "cell_type": "code",
   "execution_count": null,
   "id": "0aa82112",
   "metadata": {},
   "outputs": [],
   "source": [
    "# Column names\n",
    "df.columns"
   ]
  },
  {
   "cell_type": "code",
   "execution_count": null,
   "id": "21ce0481",
   "metadata": {},
   "outputs": [],
   "source": [
    "# Row index\n",
    "df.index"
   ]
  },
  {
   "cell_type": "code",
   "execution_count": null,
   "id": "9f17618a",
   "metadata": {},
   "outputs": [],
   "source": [
    "# Data types of features\n",
    "df.dtypes"
   ]
  },
  {
   "cell_type": "code",
   "execution_count": null,
   "id": "2d0b65d9",
   "metadata": {},
   "outputs": [],
   "source": [
    "# Descriptive statistics (numeric columns)\n",
    "df.describe()"
   ]
  },
  {
   "cell_type": "code",
   "execution_count": null,
   "id": "6e36f551",
   "metadata": {},
   "outputs": [],
   "source": [
    "# Unique value count per column\n",
    "df.nunique()"
   ]
  },
  {
   "cell_type": "markdown",
   "id": "c1e12301",
   "metadata": {},
   "source": [
    "Sanitise \"outer\" properties of data frame such as column names and and data types if requisite. Explain all operations that are either necessary or already obsolete."
   ]
  },
  {
   "cell_type": "code",
   "execution_count": null,
   "id": "3ec09e1d",
   "metadata": {},
   "outputs": [],
   "source": [
    "df_pageviews[\"received_at\"] = pd.to_datetime(df_pageviews[\"received_at\"])"
   ]
  },
  {
   "cell_type": "markdown",
   "id": "c971c9cd",
   "metadata": {},
   "source": [
    "## Missing Values\n",
    "\n",
    "Likewise, identify misencoded values."
   ]
  },
  {
   "cell_type": "code",
   "execution_count": null,
   "id": "e65286e4",
   "metadata": {},
   "outputs": [],
   "source": [
    "# Count of missing values per column\n",
    "df.isna().sum()"
   ]
  },
  {
   "cell_type": "code",
   "execution_count": null,
   "id": "8b66d597",
   "metadata": {},
   "outputs": [],
   "source": [
    "# Percentage of missing values\n",
    "df.isnull().mean()"
   ]
  },
  {
   "cell_type": "code",
   "execution_count": null,
   "id": "ab8c6de1",
   "metadata": {},
   "outputs": [],
   "source": [
    "msno.matrix(df)\n",
    "# plt.show()"
   ]
  },
  {
   "cell_type": "code",
   "execution_count": null,
   "id": "4cb4f9c8",
   "metadata": {},
   "outputs": [],
   "source": [
    "msno.heatmap(df)\n",
    "# plt.show()"
   ]
  },
  {
   "cell_type": "markdown",
   "id": "54e4896b",
   "metadata": {},
   "source": [
    "Explain all operations that are either necessary or already obsolete."
   ]
  },
  {
   "cell_type": "markdown",
   "id": "55e57d4d",
   "metadata": {},
   "source": [
    "## Final Overview of the Polished Data\n",
    "\n",
    "As the data have now been fully processed, we shall examine the pairwise distributions."
   ]
  },
  {
   "cell_type": "code",
   "execution_count": null,
   "id": "cc909174",
   "metadata": {},
   "outputs": [],
   "source": [
    "cols_blacklist = [\n",
    "]\n",
    "cols = [col for col in df.columns if col not in cols_blacklist]\n",
    "df_subset = df[cols]\n",
    "\n",
    "sns.pairplot(df_subset, diag_kind=\"kde\")\n",
    "plt.suptitle(\"Pairplot\")\n",
    "plt.show()"
   ]
  },
  {
   "cell_type": "markdown",
   "id": "1356f355",
   "metadata": {},
   "source": [
    "Furthermore, we shall survey the correlation matrix:"
   ]
  },
  {
   "cell_type": "code",
   "execution_count": null,
   "id": "f9919e88",
   "metadata": {},
   "outputs": [],
   "source": [
    "corr = df_subset.corr(numeric_only=True)\n",
    "\n",
    "plt.figure(figsize=(8, 6))\n",
    "sns.heatmap(corr, annot=True, fmt=\".2f\")\n",
    "plt.title(\"Correlation Matrix\")\n",
    "plt.tight_layout()\n",
    "plt.show()"
   ]
  },
  {
   "cell_type": "markdown",
   "id": "3d35090c",
   "metadata": {},
   "source": [
    "\n",
    "---\n",
    "\n",
    "As the final step in this notebook, we store the data frame, now entailing all our modifications, to disk."
   ]
  },
  {
   "cell_type": "code",
   "execution_count": null,
   "id": "2f0e20b1",
   "metadata": {},
   "outputs": [],
   "source": [
    "dump_df(df, \"df_retrieved\", [\"pkl\", \"csv\"])"
   ]
  }
 ],
 "metadata": {
  "kernelspec": {
   "display_name": ".venv",
   "language": "python",
   "name": "python3"
  },
  "language_info": {
   "codemirror_mode": {
    "name": "ipython",
    "version": 3
   },
   "file_extension": ".py",
   "mimetype": "text/x-python",
   "name": "python",
   "nbconvert_exporter": "python",
   "pygments_lexer": "ipython3",
   "version": "3.11.3"
  }
 },
 "nbformat": 4,
 "nbformat_minor": 5
}
