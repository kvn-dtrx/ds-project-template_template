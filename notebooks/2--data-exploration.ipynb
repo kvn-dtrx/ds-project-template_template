{
 "cells": [
  {
   "cell_type": "markdown",
   "id": "55d645f7",
   "metadata": {},
   "source": [
    "# Data Exploration"
   ]
  },
  {
   "cell_type": "markdown",
   "id": "3f163742",
   "metadata": {},
   "source": [
    "## Setup\n",
    "\n",
    "For the purposes of our analysis, the following modules shall be required:"
   ]
  },
  {
   "cell_type": "code",
   "execution_count": null,
   "id": "f0a2f0e3",
   "metadata": {},
   "outputs": [],
   "source": [
    "import pandas as pd\n",
    "import missingno as msno\n",
    "import matplotlib.pyplot as plt\n",
    "import seaborn as sns\n",
    "from sklearn.feature_selection import mutual_info_regression\n",
    "\n",
    "from ipynb_utils.cfg import CFG\n",
    "from ipynb_utils.utils import dump_df, load_data"
   ]
  },
  {
   "cell_type": "code",
   "execution_count": null,
   "id": "26c94e08",
   "metadata": {},
   "outputs": [],
   "source": [
    "df_0 = load_data(\"1--df_retrieved.pkl\")"
   ]
  },
  {
   "cell_type": "code",
   "execution_count": null,
   "id": "faf6dfa0",
   "metadata": {},
   "outputs": [],
   "source": [
    "df_0.info()"
   ]
  },
  {
   "cell_type": "code",
   "execution_count": null,
   "id": "3bc0d7af",
   "metadata": {},
   "outputs": [],
   "source": [
    "# TODO: Delete this cell in the final version!\n",
    "\n",
    "# Comprehensive Data Report\n",
    "from ydata_profiling import ProfileReport\n",
    "\n",
    "profile = ProfileReport(df, title=\"Profiling Report\")\n",
    "profile"
   ]
  },
  {
   "cell_type": "code",
   "execution_count": null,
   "id": "e7cf642f",
   "metadata": {},
   "outputs": [],
   "source": [
    "Boxplots!"
   ]
  },
  {
   "cell_type": "markdown",
   "id": "e08e4f55",
   "metadata": {},
   "source": [
    "## Basic Inspection"
   ]
  },
  {
   "cell_type": "markdown",
   "id": "032e1fcf",
   "metadata": {},
   "source": [
    "Let us obtain a first impression of the dataset with/by the usual inspection commands."
   ]
  },
  {
   "cell_type": "code",
   "execution_count": null,
   "id": "4d2f1708",
   "metadata": {},
   "outputs": [],
   "source": [
    "# Summary: non-null counts, types, memory\n",
    "df.info()"
   ]
  },
  {
   "cell_type": "code",
   "execution_count": null,
   "id": "4540e919",
   "metadata": {},
   "outputs": [],
   "source": [
    "# First 10 rows\n",
    "df.head(10)"
   ]
  },
  {
   "cell_type": "code",
   "execution_count": null,
   "id": "b560af1c",
   "metadata": {},
   "outputs": [],
   "source": [
    "# Last 10 rows\n",
    "df.tail(10)"
   ]
  },
  {
   "cell_type": "code",
   "execution_count": null,
   "id": "5fd075f5",
   "metadata": {},
   "outputs": [],
   "source": [
    "# Random 10 rows\n",
    "df.sample(10)"
   ]
  },
  {
   "cell_type": "code",
   "execution_count": null,
   "id": "81bab701",
   "metadata": {},
   "outputs": [],
   "source": [
    "# Rows and columns (rows, cols)\n",
    "df.shape"
   ]
  },
  {
   "cell_type": "code",
   "execution_count": null,
   "id": "0aa82112",
   "metadata": {},
   "outputs": [],
   "source": [
    "# Column names\n",
    "df.columns"
   ]
  },
  {
   "cell_type": "code",
   "execution_count": null,
   "id": "21ce0481",
   "metadata": {},
   "outputs": [],
   "source": [
    "# Row index\n",
    "df.index"
   ]
  },
  {
   "cell_type": "code",
   "execution_count": null,
   "id": "9f17618a",
   "metadata": {},
   "outputs": [],
   "source": [
    "# Data types of each column\n",
    "df.dtypes"
   ]
  },
  {
   "cell_type": "code",
   "execution_count": null,
   "id": "2d0b65d9",
   "metadata": {},
   "outputs": [],
   "source": [
    "# Descriptive statistics (numeric cols)\n",
    "df.describe()"
   ]
  },
  {
   "cell_type": "markdown",
   "id": "c1e12301",
   "metadata": {},
   "source": [
    "- Fix column names.\n",
    "- Fix column types.\n",
    "\n",
    "Even if nothing to do!"
   ]
  },
  {
   "cell_type": "code",
   "execution_count": null,
   "id": "3ec09e1d",
   "metadata": {},
   "outputs": [],
   "source": [
    "df_pageviews[\"received_at\"] = pd.to_datetime(df_pageviews[\"received_at\"])"
   ]
  },
  {
   "cell_type": "markdown",
   "id": "c971c9cd",
   "metadata": {},
   "source": [
    "## Null and Unique Values"
   ]
  },
  {
   "cell_type": "code",
   "execution_count": null,
   "id": "e65286e4",
   "metadata": {},
   "outputs": [],
   "source": [
    "# Count of missing values per column\n",
    "df.isna().sum()"
   ]
  },
  {
   "cell_type": "code",
   "execution_count": null,
   "id": "8b66d597",
   "metadata": {},
   "outputs": [],
   "source": [
    "# Percentage of missing values\n",
    "df.isnull().mean()"
   ]
  },
  {
   "cell_type": "code",
   "execution_count": null,
   "id": "ba80783e",
   "metadata": {},
   "outputs": [],
   "source": [
    "# Unique value count per column\n",
    "df.nunique()"
   ]
  },
  {
   "cell_type": "code",
   "execution_count": null,
   "id": "ab8c6de1",
   "metadata": {},
   "outputs": [],
   "source": [
    "# Suppose df is your DataFrame\n",
    "msno.matrix(df)\n",
    "# plt.show()\n",
    "\n",
    "# Or for a heatmap-style visualization\n",
    "msno.heatmap(df)\n",
    "# plt.show()"
   ]
  },
  {
   "cell_type": "markdown",
   "id": "54e4896b",
   "metadata": {},
   "source": [
    "Even if there are no missing values, state!"
   ]
  },
  {
   "cell_type": "code",
   "execution_count": null,
   "id": "cc909174",
   "metadata": {},
   "outputs": [],
   "source": [
    "# Frequency of values in a column\n",
    "df[\"col\"].value_counts()"
   ]
  },
  {
   "cell_type": "code",
   "execution_count": null,
   "id": "53597857",
   "metadata": {},
   "outputs": [],
   "source": [
    "df_numeric = df.select_dtypes(include=\"number\")\n",
    "corr_matrix = df_numeric.corr()\n",
    "print(corr_matrix)"
   ]
  },
  {
   "cell_type": "code",
   "execution_count": null,
   "id": "f9919e88",
   "metadata": {},
   "outputs": [],
   "source": [
    "plt.figure(figsize=(8, 6))\n",
    "sns.heatmap(corr_matrix.astype(float), annot=True, cmap=\"coolwarm\", vmin=0, vmax=1)\n",
    "plt.title(\"Correlation of Numeric Features\")\n",
    "plt.show()"
   ]
  },
  {
   "cell_type": "code",
   "execution_count": null,
   "id": "2f0e20b1",
   "metadata": {},
   "outputs": [],
   "source": [
    "dump_df(df_pageviews, \"1--df_retrieved\", [\"pkl\", \"csv\"])"
   ]
  }
 ],
 "metadata": {
  "kernelspec": {
   "display_name": ".venv",
   "language": "python",
   "name": "python3"
  },
  "language_info": {
   "codemirror_mode": {
    "name": "ipython",
    "version": 3
   },
   "file_extension": ".py",
   "mimetype": "text/x-python",
   "name": "python",
   "nbconvert_exporter": "python",
   "pygments_lexer": "ipython3",
   "version": "3.11.3"
  }
 },
 "nbformat": 4,
 "nbformat_minor": 5
}
