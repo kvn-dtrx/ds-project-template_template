{
 "cells": [
  {
   "cell_type": "markdown",
   "id": "6d1eb482",
   "metadata": {},
   "source": [
    "# Résumé\n",
    "\n",
    "In this notebook, we summarise our findings and insights. In this notebook, we summarise our findings and insights. Additionally, we suggest possible directions for the continuation of the project."
   ]
  },
  {
   "cell_type": "markdown",
   "id": "a6f62469",
   "metadata": {
    "vscode": {
     "languageId": "plaintext"
    }
   },
   "source": [
    "## Retrospective\n",
    "\n",
    "- What are the key insights?\n",
    "- Which recommendations can you infer?"
   ]
  },
  {
   "cell_type": "markdown",
   "id": "716da2ee",
   "metadata": {},
   "source": [
    "## Prospective"
   ]
  },
  {
   "cell_type": "markdown",
   "id": "fa95042c",
   "metadata": {},
   "source": [
    "- Which additional feature would be interesting?\n",
    "- From which features would a model profit?\n",
    "- What would you do if you would have more time?"
   ]
  }
 ],
 "metadata": {
  "language_info": {
   "name": "python"
  }
 },
 "nbformat": 4,
 "nbformat_minor": 5
}
