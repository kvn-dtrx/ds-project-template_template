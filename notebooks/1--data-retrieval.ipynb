{
 "cells": [
  {
   "cell_type": "markdown",
   "id": "6006171f",
   "metadata": {},
   "source": [
    "# Data Retrieval"
   ]
  },
  {
   "cell_type": "markdown",
   "id": "439c1d9f",
   "metadata": {},
   "source": [
    "In this notebook, we shall provide the code required to retrieve the data intended for analysis. It should be noted that appropriate credentials must be supplied in order to access the database.\n",
    "\n",
    "We shall employ the following modules:"
   ]
  },
  {
   "cell_type": "code",
   "execution_count": null,
   "id": "c58a1497",
   "metadata": {},
   "outputs": [],
   "source": [
    "import os\n",
    "import subprocess\n",
    "import pandas as pd\n",
    "from sqlalchemy import create_engine\n",
    "from dotenv import load_dotenv\n",
    "\n",
    "from ipynb_utils import CFG\n",
    "from ipynb_utils import dump_df"
   ]
  },
  {
   "cell_type": "markdown",
   "id": "191764c8",
   "metadata": {},
   "source": [
    "A brief examination of the given database, conducted within a GUI application such as DBeaver, reveals that the following SQL query yields the correct dataset:"
   ]
  },
  {
   "cell_type": "code",
   "execution_count": null,
   "id": "b01cbbc8",
   "metadata": {},
   "outputs": [],
   "source": [
    "QUERY = \"\"\"\n",
    "    SET SCHEMA 'takemehome';\n",
    "    SELECT * from takemehome.artsy_pageviews;\n",
    "\"\"\""
   ]
  },
  {
   "cell_type": "markdown",
   "id": "6e9628b8",
   "metadata": {},
   "source": [
    "We load the credentials required for database access from the `.env` file into Python."
   ]
  },
  {
   "cell_type": "code",
   "execution_count": null,
   "id": "fd43fdd3",
   "metadata": {},
   "outputs": [
    {
     "name": "stderr",
     "output_type": "stream",
     "text": [
      "/var/folders/sd/w05frkx11tlgfrfknd40sp740000gn/T/ipykernel_9097/3394882986.py:12: UserWarning: pandas only supports SQLAlchemy connectable (engine/connection) or database string URI or sqlite3 DBAPI2 connection. Other DBAPI2 objects are not tested. Please consider using SQLAlchemy.\n",
      "  df_pageviews = pd.read_sql(QRY_PAGEVIEWS, conn)\n",
      "/var/folders/sd/w05frkx11tlgfrfknd40sp740000gn/T/ipykernel_9097/3394882986.py:13: UserWarning: pandas only supports SQLAlchemy connectable (engine/connection) or database string URI or sqlite3 DBAPI2 connection. Other DBAPI2 objects are not tested. Please consider using SQLAlchemy.\n",
      "  df_testuser = pd.read_sql(QRY_TESTUSER, conn)\n"
     ]
    }
   ],
   "source": [
    "load_dotenv()\n",
    "\n",
    "DB_CONFIG = {\n",
    "    \"scheme\": os.getenv(\"DB_SCHEME\"),\n",
    "    \"database\": os.getenv(\"DATABASE\"),\n",
    "    \"user\": os.getenv(\"USER_DB\"),\n",
    "    \"password\": os.getenv(\"PASSWORD\"),\n",
    "    \"host\": os.getenv(\"HOST\"),\n",
    "    \"port\": os.getenv(\"PORT\")\n",
    "}\n",
    "\n",
    "DB_STRING = (\n",
    "    \"{scheme}://{user}:{password}@{host}:{port}/{database}\"\n",
    "    .format(**DB_CONFIG)\n",
    ")"
   ]
  },
  {
   "cell_type": "markdown",
   "id": "741e8f13",
   "metadata": {},
   "source": [
    "We establish a connect to the database and load the data specified by the query into a pandas data frame."
   ]
  },
  {
   "cell_type": "code",
   "execution_count": null,
   "id": "eb7a8bd6",
   "metadata": {},
   "outputs": [],
   "source": [
    "db = create_engine(DB_STRING)\n",
    "\n",
    "with db.connect() as conn:\n",
    "    df = pd.read_sql(QUERY, conn)"
   ]
  },
  {
   "cell_type": "markdown",
   "id": "52d8afe3",
   "metadata": {},
   "source": [
    "Let us confirm that the download process has been successful."
   ]
  },
  {
   "cell_type": "code",
   "execution_count": null,
   "id": "bcc60988",
   "metadata": {},
   "outputs": [
    {
     "name": "stdout",
     "output_type": "stream",
     "text": [
      "<class 'pandas.core.frame.DataFrame'>\n",
      "RangeIndex: 100000 entries, 0 to 99999\n",
      "Data columns (total 5 columns):\n",
      " #   Column        Non-Null Count   Dtype \n",
      "---  ------        --------------   ----- \n",
      " 0   anonymous_id  100000 non-null  object\n",
      " 1   logged_in     100000 non-null  bool  \n",
      " 2   received_at   100000 non-null  object\n",
      " 3   path          100000 non-null  object\n",
      " 4   referrer      80035 non-null   object\n",
      "dtypes: bool(1), object(4)\n",
      "memory usage: 3.1+ MB\n"
     ]
    }
   ],
   "source": [
    "df.info()"
   ]
  },
  {
   "cell_type": "code",
   "execution_count": null,
   "id": "240154c4",
   "metadata": {},
   "outputs": [
    {
     "data": {
      "application/vnd.microsoft.datawrangler.viewer.v0+json": {
       "columns": [
        {
         "name": "index",
         "rawType": "int64",
         "type": "integer"
        },
        {
         "name": "anonymous_id",
         "rawType": "object",
         "type": "string"
        },
        {
         "name": "logged_in",
         "rawType": "bool",
         "type": "boolean"
        },
        {
         "name": "received_at",
         "rawType": "object",
         "type": "string"
        },
        {
         "name": "path",
         "rawType": "object",
         "type": "string"
        },
        {
         "name": "referrer",
         "rawType": "object",
         "type": "unknown"
        }
       ],
       "ref": "4c151764-83c3-4ee1-979a-3b7d9d3dc472",
       "rows": [
        [
         "34689",
         "0383fc2e-c4a5-404a-b306-ae13231fc754",
         "True",
         "2017-03-13 21:52:18.250",
         "/search",
         "https://www.artsy.net/artist/gerard-mannoni"
        ],
        [
         "44224",
         "d9e5894a-b097-4880-96ec-8f4637fc507b",
         "False",
         "2017-03-18 00:52:05.873",
         "/article/artsy-editorial-8-female-surrealists-who-are-not-frida-kahlo",
         "https://www.facebook.com/"
        ],
        [
         "40426",
         "b3c9e7a3-6e62-4bfe-a5e4-08db0e40612f",
         "False",
         "2017-03-23 23:49:27.677",
         "/artist/isidore-stanislaus-henri-helman",
         "https://www.google.com.br/"
        ],
        [
         "57806",
         "04e3ac13-4da1-4192-b0f4-87e40ceda209",
         "False",
         "2017-03-12 03:38:14.907",
         "/the-armory-show-2017",
         "https://www.google.com/"
        ],
        [
         "35516",
         "d79263fb-772f-4828-ae25-d24258e418e8",
         "False",
         "2017-03-16 18:15:26.470",
         "/artist/alberto-burri/related-artists",
         "https://www.artsy.net/artist/alberto-burri"
        ],
        [
         "99817",
         "887765d9-0936-443c-ad58-227589996564",
         "False",
         "2017-03-25 18:32:22.754",
         "/article/artsy-editorial-7-things-you-didn-t-know-about-hokusai-painter-of-the-great-wave",
         "https://www.facebook.com/"
        ],
        [
         "8133",
         "3fbee8c2-a518-4891-8605-a952c6396065",
         "False",
         "2017-03-21 16:40:36.264",
         "/artist/claude-monet",
         "https://www.google.com/"
        ],
        [
         "24453",
         "65e20801-6062-491a-b088-f7c6ec8754c5",
         "False",
         "2017-03-19 10:40:04.664",
         "/artwork/kenny-scharf-blob-goy",
         "https://www.google.fr/"
        ],
        [
         "8467",
         "2e1c71c9-4d20-4394-abfc-997051bc4e75",
         "False",
         "2017-03-12 00:41:19.905",
         "/artist/frank-stella",
         "https://www.artsy.net/gene/line-form-and-color/artworks?for_sale=&include_medium_filter_in_aggregation=true"
        ],
        [
         "26185",
         "9ff6c341-0d2d-4a2b-80f0-ba3896a6075f",
         "True",
         "2017-03-15 01:06:07.862",
         "/dev/blank",
         null
        ]
       ],
       "shape": {
        "columns": 5,
        "rows": 10
       }
      },
      "text/html": [
       "<div>\n",
       "<style scoped>\n",
       "    .dataframe tbody tr th:only-of-type {\n",
       "        vertical-align: middle;\n",
       "    }\n",
       "\n",
       "    .dataframe tbody tr th {\n",
       "        vertical-align: top;\n",
       "    }\n",
       "\n",
       "    .dataframe thead th {\n",
       "        text-align: right;\n",
       "    }\n",
       "</style>\n",
       "<table border=\"1\" class=\"dataframe\">\n",
       "  <thead>\n",
       "    <tr style=\"text-align: right;\">\n",
       "      <th></th>\n",
       "      <th>anonymous_id</th>\n",
       "      <th>logged_in</th>\n",
       "      <th>received_at</th>\n",
       "      <th>path</th>\n",
       "      <th>referrer</th>\n",
       "    </tr>\n",
       "  </thead>\n",
       "  <tbody>\n",
       "    <tr>\n",
       "      <th>34689</th>\n",
       "      <td>0383fc2e-c4a5-404a-b306-ae13231fc754</td>\n",
       "      <td>True</td>\n",
       "      <td>2017-03-13 21:52:18.250</td>\n",
       "      <td>/search</td>\n",
       "      <td>https://www.artsy.net/artist/gerard-mannoni</td>\n",
       "    </tr>\n",
       "    <tr>\n",
       "      <th>44224</th>\n",
       "      <td>d9e5894a-b097-4880-96ec-8f4637fc507b</td>\n",
       "      <td>False</td>\n",
       "      <td>2017-03-18 00:52:05.873</td>\n",
       "      <td>/article/artsy-editorial-8-female-surrealists-...</td>\n",
       "      <td>https://www.facebook.com/</td>\n",
       "    </tr>\n",
       "    <tr>\n",
       "      <th>40426</th>\n",
       "      <td>b3c9e7a3-6e62-4bfe-a5e4-08db0e40612f</td>\n",
       "      <td>False</td>\n",
       "      <td>2017-03-23 23:49:27.677</td>\n",
       "      <td>/artist/isidore-stanislaus-henri-helman</td>\n",
       "      <td>https://www.google.com.br/</td>\n",
       "    </tr>\n",
       "    <tr>\n",
       "      <th>57806</th>\n",
       "      <td>04e3ac13-4da1-4192-b0f4-87e40ceda209</td>\n",
       "      <td>False</td>\n",
       "      <td>2017-03-12 03:38:14.907</td>\n",
       "      <td>/the-armory-show-2017</td>\n",
       "      <td>https://www.google.com/</td>\n",
       "    </tr>\n",
       "    <tr>\n",
       "      <th>35516</th>\n",
       "      <td>d79263fb-772f-4828-ae25-d24258e418e8</td>\n",
       "      <td>False</td>\n",
       "      <td>2017-03-16 18:15:26.470</td>\n",
       "      <td>/artist/alberto-burri/related-artists</td>\n",
       "      <td>https://www.artsy.net/artist/alberto-burri</td>\n",
       "    </tr>\n",
       "    <tr>\n",
       "      <th>99817</th>\n",
       "      <td>887765d9-0936-443c-ad58-227589996564</td>\n",
       "      <td>False</td>\n",
       "      <td>2017-03-25 18:32:22.754</td>\n",
       "      <td>/article/artsy-editorial-7-things-you-didn-t-k...</td>\n",
       "      <td>https://www.facebook.com/</td>\n",
       "    </tr>\n",
       "    <tr>\n",
       "      <th>8133</th>\n",
       "      <td>3fbee8c2-a518-4891-8605-a952c6396065</td>\n",
       "      <td>False</td>\n",
       "      <td>2017-03-21 16:40:36.264</td>\n",
       "      <td>/artist/claude-monet</td>\n",
       "      <td>https://www.google.com/</td>\n",
       "    </tr>\n",
       "    <tr>\n",
       "      <th>24453</th>\n",
       "      <td>65e20801-6062-491a-b088-f7c6ec8754c5</td>\n",
       "      <td>False</td>\n",
       "      <td>2017-03-19 10:40:04.664</td>\n",
       "      <td>/artwork/kenny-scharf-blob-goy</td>\n",
       "      <td>https://www.google.fr/</td>\n",
       "    </tr>\n",
       "    <tr>\n",
       "      <th>8467</th>\n",
       "      <td>2e1c71c9-4d20-4394-abfc-997051bc4e75</td>\n",
       "      <td>False</td>\n",
       "      <td>2017-03-12 00:41:19.905</td>\n",
       "      <td>/artist/frank-stella</td>\n",
       "      <td>https://www.artsy.net/gene/line-form-and-color...</td>\n",
       "    </tr>\n",
       "    <tr>\n",
       "      <th>26185</th>\n",
       "      <td>9ff6c341-0d2d-4a2b-80f0-ba3896a6075f</td>\n",
       "      <td>True</td>\n",
       "      <td>2017-03-15 01:06:07.862</td>\n",
       "      <td>/dev/blank</td>\n",
       "      <td>None</td>\n",
       "    </tr>\n",
       "  </tbody>\n",
       "</table>\n",
       "</div>"
      ],
      "text/plain": [
       "                               anonymous_id  logged_in  \\\n",
       "34689  0383fc2e-c4a5-404a-b306-ae13231fc754       True   \n",
       "44224  d9e5894a-b097-4880-96ec-8f4637fc507b      False   \n",
       "40426  b3c9e7a3-6e62-4bfe-a5e4-08db0e40612f      False   \n",
       "57806  04e3ac13-4da1-4192-b0f4-87e40ceda209      False   \n",
       "35516  d79263fb-772f-4828-ae25-d24258e418e8      False   \n",
       "99817  887765d9-0936-443c-ad58-227589996564      False   \n",
       "8133   3fbee8c2-a518-4891-8605-a952c6396065      False   \n",
       "24453  65e20801-6062-491a-b088-f7c6ec8754c5      False   \n",
       "8467   2e1c71c9-4d20-4394-abfc-997051bc4e75      False   \n",
       "26185  9ff6c341-0d2d-4a2b-80f0-ba3896a6075f       True   \n",
       "\n",
       "                   received_at  \\\n",
       "34689  2017-03-13 21:52:18.250   \n",
       "44224  2017-03-18 00:52:05.873   \n",
       "40426  2017-03-23 23:49:27.677   \n",
       "57806  2017-03-12 03:38:14.907   \n",
       "35516  2017-03-16 18:15:26.470   \n",
       "99817  2017-03-25 18:32:22.754   \n",
       "8133   2017-03-21 16:40:36.264   \n",
       "24453  2017-03-19 10:40:04.664   \n",
       "8467   2017-03-12 00:41:19.905   \n",
       "26185  2017-03-15 01:06:07.862   \n",
       "\n",
       "                                                    path  \\\n",
       "34689                                            /search   \n",
       "44224  /article/artsy-editorial-8-female-surrealists-...   \n",
       "40426            /artist/isidore-stanislaus-henri-helman   \n",
       "57806                              /the-armory-show-2017   \n",
       "35516              /artist/alberto-burri/related-artists   \n",
       "99817  /article/artsy-editorial-7-things-you-didn-t-k...   \n",
       "8133                                /artist/claude-monet   \n",
       "24453                     /artwork/kenny-scharf-blob-goy   \n",
       "8467                                /artist/frank-stella   \n",
       "26185                                         /dev/blank   \n",
       "\n",
       "                                                referrer  \n",
       "34689        https://www.artsy.net/artist/gerard-mannoni  \n",
       "44224                          https://www.facebook.com/  \n",
       "40426                         https://www.google.com.br/  \n",
       "57806                            https://www.google.com/  \n",
       "35516         https://www.artsy.net/artist/alberto-burri  \n",
       "99817                          https://www.facebook.com/  \n",
       "8133                             https://www.google.com/  \n",
       "24453                             https://www.google.fr/  \n",
       "8467   https://www.artsy.net/gene/line-form-and-color...  \n",
       "26185                                               None  "
      ]
     },
     "execution_count": 17,
     "metadata": {},
     "output_type": "execute_result"
    }
   ],
   "source": [
    "df.sample(10)"
   ]
  },
  {
   "cell_type": "markdown",
   "id": "fdc644d4",
   "metadata": {},
   "source": [
    "The join operation in the SQL query may cause duplication of columns. We shall remove such duplicates immediately."
   ]
  },
  {
   "cell_type": "code",
   "execution_count": null,
   "id": "8ea248a4",
   "metadata": {},
   "outputs": [],
   "source": [
    "df = df.loc[:, ~df.columns.duplicated()]"
   ]
  },
  {
   "cell_type": "markdown",
   "id": "2d84aef0",
   "metadata": {},
   "source": [
    "At last, the data frame is ready to be stored: To preserve the original data structure, we employ a pickle file; the csv version serves solely for direct visual inspection."
   ]
  },
  {
   "cell_type": "code",
   "execution_count": null,
   "id": "15aef3f6",
   "metadata": {},
   "outputs": [],
   "source": [
    "df.to_pickle(CFG[\"DF_PKL_PATH\"])\n",
    "df.to_csv(CFG[\"DF_CSV_PATH\"], index=False)"
   ]
  }
 ],
 "metadata": {
  "kernelspec": {
   "display_name": ".venv",
   "language": "python",
   "name": "python3"
  },
  "language_info": {
   "codemirror_mode": {
    "name": "ipython",
    "version": 3
   },
   "file_extension": ".py",
   "mimetype": "text/x-python",
   "name": "python",
   "nbconvert_exporter": "python",
   "pygments_lexer": "ipython3",
   "version": "3.11.3"
  }
 },
 "nbformat": 4,
 "nbformat_minor": 5
}
